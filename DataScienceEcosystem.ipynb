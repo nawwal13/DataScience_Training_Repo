{
 "cells": [
  {
   "attachments": {
    "a938bf94-b121-4bf5-92a8-4520f357bf73.png": {
     "image/png": "[encoded data removed]"
    }
   },
   "cell_type": "markdown",
   "id": "32e1fdd2-2cf7-4976-852e-c80cadc5484c",
   "metadata": {},
   "source": [
    "# H1: Data Science Tools and Ecosystem\n",
    "2-title.png:![2-title.png](attachment:a938bf94-b121-4bf5-92a8-4520f357bf73.png)"
   ]
  },
  {
   "attachments": {
    "98fe6a7e-ba75-475d-b580-c5d12b4ced6b.png": {
     "image/png": "[encoded data removed]"
    }
   },
   "cell_type": "markdown",
   "id": "d4365880-36fe-45bc-8e6a-26c0a4e47365",
   "metadata": {},
   "source": [
    "In this notebook, Data Science Tools and Ecosystem are summarized. I will also keep the screenshots from each markdown for the peer review.\n",
    "\n",
    "3-intro.png: ![3-intro.png](attachment:98fe6a7e-ba75-475d-b580-c5d12b4ced6b.png)"
   ]
  },
  {
   "attachments": {
    "e9c71c6b-dceb-4952-9fbb-b0f5a8ff914e.png": {
     "image/png": "[encoded data removed]"
    }
   },
   "cell_type": "markdown",
   "id": "d4821a9f-82b1-4676-85ec-42417b303722",
   "metadata": {},
   "source": [
    "**Some of the popular languages that Data Scientists use are:**\n",
    "\n",
    "| Number | Language |\n",
    "| -------------| ------ |\n",
    "| 1 | Python |\n",
    "| 2 | SQL |\n",
    "| 3 | R |\n",
    "| 4 | Java |\n",
    "| 5 | Javascript |\n",
    "\n",
    "or\n",
    "\n",
    "1. Python\n",
    "2. SQL\n",
    "3. R\n",
    "4. Java\n",
    "5. Java Script\n",
    "\n",
    "\n",
    "4-dslanguages.png: ![4-dslanguages.png](attachment:e9c71c6b-dceb-4952-9fbb-b0f5a8ff914e.png)"
   ]
  },
  {
   "attachments": {
    "e103d0ce-66fa-4f76-b5dc-64a05dc2ef73.png": {
     "image/png": "[encoded data removed]"
    }
   },
   "cell_type": "markdown",
   "id": "89f224ba-9385-44ca-8b23-f335e95f9654",
   "metadata": {},
   "source": [
    "**Some of the commonly used libraries used by Data Scientists include:**\n",
    "\n",
    "| Number | Libraries |\n",
    "| -------------| ------ |\n",
    "| 1 | Numpy |\n",
    "| 2 | Pandas |\n",
    "| 3 | Matplotlib |\n",
    "| 4 | Seaborn |\n",
    "| 5 | Scikit-learn |\n",
    "\n",
    "or\n",
    "\n",
    "1. Numpy\n",
    "2. Pandas\n",
    "3. Matplotlib\n",
    "4. Seaborn\n",
    "5. Scikit-learn\n",
    "\n",
    "\n",
    "4-dslanguages.png: ![4-dslanguages.png](attachment:e103d0ce-66fa-4f76-b5dc-64a05dc2ef73.png)"
   ]
  },
  {
   "attachments": {
    "8129a49c-c7f8-415e-be9e-44a4ae3c2258.png": {
     "image/png": "[encoded data removed]"
    }
   },
   "cell_type": "markdown",
   "id": "bcc389f2-7996-4b5a-b453-24111e8500b3",
   "metadata": {},
   "source": [
    "| Data Science Tools |\n",
    "|---------------------|\n",
    "| Jupyter Notebook    |\n",
    "| RStudio             |\n",
    "| VS Code             |\n",
    "\n",
    "\n",
    "6-dstools.png: ![6-dstools.png](attachment:8129a49c-c7f8-415e-be9e-44a4ae3c2258.png)"
   ]
  },
  {
   "attachments": {
    "cf1d290f-39ef-4bca-8db6-4e35e94774bf.png": {
     "image/png": "[encoded data removed]"
    }
   },
   "cell_type": "markdown",
   "id": "2d34709b-e95b-4ee4-b9ba-642f46789ca6",
   "metadata": {},
   "source": [
    "## H3: Below are a few examples of evaluating arithmetic expressions in Python\n",
    "\n",
    "\n",
    "7-introarithmetic.png: ![7-introarithmetic.png](attachment:cf1d290f-39ef-4bca-8db6-4e35e94774bf.png)"
   ]
  },
  {
   "cell_type": "code",
   "execution_count": 22,
   "id": "1f7d82a4-34ac-4153-a20d-a651fcdfed86",
   "metadata": {},
   "outputs": [
    {
     "data": {
      "text/plain": [
       "17"
      ]
     },
     "execution_count": 22,
     "metadata": {},
     "output_type": "execute_result"
    }
   ],
   "source": [
    "#This a simple arithmetic expression to mutiply then add integers\n",
    "\n",
    "(3*4)+5\n",
    "\n"
   ]
  },
  {
   "attachments": {
    "5793f4d0-5361-46bf-a2d2-6de46102c6b4.png": {
     "image/png": "[encoded data removed]"
    }
   },
   "cell_type": "markdown",
   "id": "d221b735-3c06-454c-83f4-4be7848ea9da",
   "metadata": {},
   "source": [
    "8-multiplyandaddintegers.png: \n",
    "\n",
    "![8-multiplyandaddintegers.png: ](attachment:5793f4d0-5361-46bf-a2d2-6de46102c6b4.png)"
   ]
  },
  {
   "cell_type": "code",
   "execution_count": 23,
   "id": "f5940b09-9185-4393-a75f-0f03fa633279",
   "metadata": {},
   "outputs": [
    {
     "data": {
      "text/plain": [
       "3.3333333333333335"
      ]
     },
     "execution_count": 23,
     "metadata": {},
     "output_type": "execute_result"
    }
   ],
   "source": [
    "#This will convert 200 minutes to hours by diving by 60\n",
    "\n",
    "200/60"
   ]
  },
  {
   "attachments": {
    "ade2b071-7620-468a-a2e6-3d93602ae553.png": {
     "image/png": "[encoded data removed]"
    }
   },
   "cell_type": "markdown",
   "id": "29a7e485-61b5-407b-9ef9-069e7bc0b983",
   "metadata": {},
   "source": [
    "9-hourstominutes.png: ![9-hourstominutes.png](attachment:ade2b071-7620-468a-a2e6-3d93602ae553.png)"
   ]
  },
  {
   "attachments": {
    "d7815ffb-f393-448f-aa57-2b69130fbae4.png": {
     "image/png": "[encoded data removed]"
    }
   },
   "cell_type": "markdown",
   "id": "d2409396-bf6c-4147-8a5a-56182653253b",
   "metadata": {},
   "source": [
    "**Objectives:**\n",
    "\n",
    "- List popular languages for Data Science, \n",
    "- Use markdowns and code cells separately, \n",
    "- Evaluate some aritmethic expressions in python, \n",
    "- List popular environments for Data Science. \n",
    "\n",
    "10-objectives.png:\n",
    "![10-objectives.png](attachment:d7815ffb-f393-448f-aa57-2b69130fbae4.png)"
   ]
  },
  {
   "attachments": {
    "1c2ddcad-895c-4368-aa49-75474148e9e7.png": {
     "image/png": "[encoded data removed]"
    }
   },
   "cell_type": "markdown",
   "id": "e54357ae-ba5e-4002-9add-443e572dcd3a",
   "metadata": {},
   "source": [
    "## H2: Author\n",
    "Denizeren Uzun\n",
    "\n",
    "11-authordetails.png:\n",
    "![11-authordetails.png](attachment:1c2ddcad-895c-4368-aa49-75474148e9e7.png)"
   ]
  },
  {
   "cell_type": "code",
   "execution_count": null,
   "id": "1933ff3a-4bd8-40df-bcf2-6e8206fb3733",
   "metadata": {},
   "outputs": [],
   "source": []
  }
 ],
 "metadata": {
  "kernelspec": {
   "display_name": "Python [conda env:base] *",
   "language": "python",
   "name": "conda-base-py"
  },
  "language_info": {
   "codemirror_mode": {
    "name": "ipython",
    "version": 3
   },
   "file_extension": ".py",
   "mimetype": "text/x-python",
   "name": "python",
   "nbconvert_exporter": "python",
   "pygments_lexer": "ipython3",
   "version": "3.13.5"
  }
 },
 "nbformat": 4,
 "nbformat_minor": 5
}
